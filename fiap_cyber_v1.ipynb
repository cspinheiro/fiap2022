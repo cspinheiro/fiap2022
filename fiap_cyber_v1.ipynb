{
  "cells": [
    {
      "cell_type": "markdown",
      "metadata": {
        "id": "view-in-github",
        "colab_type": "text"
      },
      "source": [
        "<a href=\"https://colab.research.google.com/github/cspinheiro/fiap2022/blob/main/fiap_cyber_v1.ipynb\" target=\"_parent\"><img src=\"https://colab.research.google.com/assets/colab-badge.svg\" alt=\"Open In Colab\"/></a>"
      ]
    },
    {
      "cell_type": "markdown",
      "source": [
        "# Identificação de itens proibidos em e-commerces\n"
      ],
      "metadata": {
        "id": "uEAYMn-lRkKQ"
      },
      "id": "uEAYMn-lRkKQ"
    },
    {
      "cell_type": "code",
      "source": [
        "import re\n"
      ],
      "metadata": {
        "id": "XVL3pz924b9J"
      },
      "id": "XVL3pz924b9J",
      "execution_count": 1,
      "outputs": []
    },
    {
      "cell_type": "code",
      "source": [
        "# arma, pistola, cigarro, k47, cigarro, .38, maconha, cannabis, metralhadora, ritalina, tucano, mico leão dourado, canário, lobo-guará"
      ],
      "metadata": {
        "id": "A9fHjT97SNvN"
      },
      "id": "A9fHjT97SNvN",
      "execution_count": 2,
      "outputs": []
    },
    {
      "cell_type": "code",
      "source": [
        "lista = [\"arma\", \"revolver\", \"k47\", \"cigarro\", \"cigarro\", \".38\", \"maconha\", \"cannabis\", \"metralhadora\", \"ritalina\", \"tucano\", \"mico leão dourado\", \"canário\"]\n",
        "texto = input() # blablabla\n",
        "if(texto in lista): #\n",
        "  print(\"Item proibido\") # tecla tab para indentação\n",
        "else:\n",
        "  print(\"Item permitido\") # tecla tab para indentação"
      ],
      "metadata": {
        "id": "P0B0GqEoii3w",
        "colab": {
          "base_uri": "https://localhost:8080/"
        },
        "outputId": "50f17cf7-c856-4333-f0ac-44f4b75c059e"
      },
      "id": "P0B0GqEoii3w",
      "execution_count": 3,
      "outputs": [
        {
          "output_type": "stream",
          "name": "stdout",
          "text": [
            "dor de cabeça\n",
            "Item permitido\n"
          ]
        }
      ]
    },
    {
      "cell_type": "code",
      "source": [
        "import re\n",
        "\n",
        "def getMatchRegex(field):\n",
        "    match = re.search('(?i)(arma)|(k47)|(pistola)|(revolver)|(k47)|(cigarro)|(.38)|(maconha)|(cannabis)|(metralhadora)|(ritalina)|(tucano)|(mico leão dourado)|(canário)', field.lower())\n",
        "    if match:\n",
        "      print('Produto proibido? Sim')\n",
        "    else:\n",
        "      print('Produto proibido? Não')\n",
        "getMatchRegex(input())"
      ],
      "metadata": {
        "id": "R-7bc0Vaii66",
        "colab": {
          "base_uri": "https://localhost:8080/"
        },
        "outputId": "0a86c946-462c-429e-8272-09a011536ca6"
      },
      "id": "R-7bc0Vaii66",
      "execution_count": 4,
      "outputs": [
        {
          "output_type": "stream",
          "name": "stdout",
          "text": [
            "tô com dor de cabeça\n",
            "Produto proibido? Não\n"
          ]
        }
      ]
    },
    {
      "cell_type": "code",
      "source": [
        "lista = [\"arma\", \"revolver\", \"k47\", \"cigarro\", \"cigarro\", \".38\", \"maconha\", \"cannabis\", \"metralhadora\", \"ritalina\", \"tucano\", \"mico leão dourado\", \"canário\"]\n",
        "texto = input()\n",
        "if(texto in lista):\n",
        "  print(\"Item proibido\")\n",
        "else:\n",
        "  print(\"Item permitido\")"
      ],
      "metadata": {
        "colab": {
          "base_uri": "https://localhost:8080/"
        },
        "id": "RXZcPVO4QQWS",
        "outputId": "64ab0a9d-c3f3-40e9-9746-0a6a8ba44311"
      },
      "id": "RXZcPVO4QQWS",
      "execution_count": 5,
      "outputs": [
        {
          "output_type": "stream",
          "name": "stdout",
          "text": [
            "tô com dor de cabeça\n",
            "Item permitido\n"
          ]
        }
      ]
    },
    {
      "cell_type": "markdown",
      "source": [
        ""
      ],
      "metadata": {
        "id": "_RWoslcNQtM7"
      },
      "id": "_RWoslcNQtM7"
    },
    {
      "cell_type": "code",
      "execution_count": 7,
      "metadata": {
        "scrolled": false,
        "colab": {
          "base_uri": "https://localhost:8080/"
        },
        "id": "exOLJkfwZp9u",
        "outputId": "18ad7c8c-df77-4853-ba18-a5f2b2fac5ea"
      },
      "outputs": [
        {
          "output_type": "stream",
          "name": "stdout",
          "text": [
            "Collecting fuzzywuzzy[speedup]\n",
            "  Downloading fuzzywuzzy-0.18.0-py2.py3-none-any.whl (18 kB)\n",
            "Collecting python-levenshtein>=0.12\n",
            "  Downloading python-Levenshtein-0.12.2.tar.gz (50 kB)\n",
            "\u001b[K     |████████████████████████████████| 50 kB 4.3 MB/s \n",
            "\u001b[?25hRequirement already satisfied: setuptools in /usr/local/lib/python3.7/dist-packages (from python-levenshtein>=0.12->fuzzywuzzy[speedup]) (57.4.0)\n",
            "Building wheels for collected packages: python-levenshtein\n",
            "  Building wheel for python-levenshtein (setup.py) ... \u001b[?25l\u001b[?25hdone\n",
            "  Created wheel for python-levenshtein: filename=python_Levenshtein-0.12.2-cp37-cp37m-linux_x86_64.whl size=149862 sha256=14da1b6ccf287a0d8479eaa10e63ca54bf4ee5735a1e239d5d9c3f11498efbab\n",
            "  Stored in directory: /root/.cache/pip/wheels/05/5f/ca/7c4367734892581bb5ff896f15027a932c551080b2abd3e00d\n",
            "Successfully built python-levenshtein\n",
            "Installing collected packages: python-levenshtein, fuzzywuzzy\n",
            "Successfully installed fuzzywuzzy-0.18.0 python-levenshtein-0.12.2\n"
          ]
        }
      ],
      "source": [
        "!pip install fuzzywuzzy[speedup]"
      ],
      "id": "exOLJkfwZp9u"
    },
    {
      "cell_type": "code",
      "execution_count": 20,
      "metadata": {
        "id": "JXiAiogCZp91",
        "outputId": "cd5693e7-289d-4593-d65c-8f5af2d21a0f",
        "colab": {
          "base_uri": "https://localhost:8080/"
        }
      },
      "outputs": [
        {
          "name": "stdout",
          "output_type": "stream",
          "text": [
            "Digite o texto: saudade da minha irmã\n"
          ]
        },
        {
          "output_type": "execute_result",
          "data": {
            "text/plain": [
              "[('Arma', 45), ('Cigarro', 39), ('Cannab1s', 32)]"
            ]
          },
          "metadata": {},
          "execution_count": 20
        }
      ],
      "source": [
        "from fuzzywuzzy import process\n",
        "\n",
        "lista = [\"Arma\", \"Cigarro\", \"Cannab1s\"]\n",
        "\n",
        "texto = input(\"Digite o texto: \")\n",
        "\n",
        "process.extract(texto, lista)"
      ],
      "id": "JXiAiogCZp91"
    },
    {
      "cell_type": "code",
      "execution_count": 21,
      "metadata": {
        "id": "upSieAJNZp94",
        "outputId": "4531d3a6-7547-4947-f0f6-bb9cad1a1bd5",
        "colab": {
          "base_uri": "https://localhost:8080/",
          "height": 53
        }
      },
      "outputs": [
        {
          "name": "stdout",
          "output_type": "stream",
          "text": [
            "saudade da isa\n"
          ]
        },
        {
          "output_type": "execute_result",
          "data": {
            "text/plain": [
              "'Produto proibido? Não'"
            ],
            "application/vnd.google.colaboratory.intrinsic+json": {
              "type": "string"
            }
          },
          "metadata": {},
          "execution_count": 21
        }
      ],
      "source": [
        "from fuzzywuzzy import process\n",
        "\n",
        "def getMatch(field):\n",
        "    match_list = [\"Arma\", \"Cigarro\", \"Cannabis\"]\n",
        "    search_list = process.extract(field, match_list)\n",
        "    \n",
        "    result = []\n",
        "    \n",
        "    for text in search_list: \n",
        "        if text[1] > 54:\n",
        "          result.append(text)\n",
        "    \n",
        "    if len(result) == 0:\n",
        "        return 'Produto proibido? Não'\n",
        "    return 'Produto proibido? Sim'\n",
        "    \n",
        "getMatch(input())"
      ],
      "id": "upSieAJNZp94"
    }
  ],
  "metadata": {
    "kernelspec": {
      "display_name": "Python 3",
      "language": "python",
      "name": "python3"
    },
    "language_info": {
      "codemirror_mode": {
        "name": "ipython",
        "version": 3
      },
      "file_extension": ".py",
      "mimetype": "text/x-python",
      "name": "python",
      "nbconvert_exporter": "python",
      "pygments_lexer": "ipython3",
      "version": "3.7.0"
    },
    "colab": {
      "name": "fiap_cyber_v1.ipynb",
      "provenance": [],
      "include_colab_link": true
    }
  },
  "nbformat": 4,
  "nbformat_minor": 5
}